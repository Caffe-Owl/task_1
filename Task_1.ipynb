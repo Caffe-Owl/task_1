{
 "cells": [
  {
   "cell_type": "markdown",
   "id": "7fb5e2d2",
   "metadata": {},
   "source": [
    "__*Task __                  \n"
   ]
  },
  {
   "cell_type": "markdown",
   "id": "0382391e",
   "metadata": {},
   "source": [
    "1. Write a Python program to display the current date and time"
   ]
  },
  {
   "cell_type": "code",
   "execution_count": 2,
   "id": "0e9517c7",
   "metadata": {},
   "outputs": [
    {
     "name": "stdout",
     "output_type": "stream",
     "text": [
      "Sat Jun  4 14:53:45 2022\n"
     ]
    }
   ],
   "source": [
    "import datetime as d\n",
    "x = d.datetime.now()\n",
    "print(x.strftime(\"%c\"))"
   ]
  },
  {
   "cell_type": "markdown",
   "id": "2a6c5dd6",
   "metadata": {},
   "source": [
    "2. Write a Python program which accepts a sequence of comma-separated numbers from user and generate a list and a tuple with those number"
   ]
  },
  {
   "cell_type": "code",
   "execution_count": 3,
   "id": "16e1110b",
   "metadata": {},
   "outputs": [
    {
     "name": "stdout",
     "output_type": "stream",
     "text": [
      "3,5,6,2,7,8\n",
      "List : ['3', '5', '6', '2', '7', '8']\n",
      "Tuple : ('3', '5', '6', '2', '7', '8')\n"
     ]
    }
   ],
   "source": [
    "n = input()\n",
    "list = n.split(\",\")\n",
    "tuple = tuple(list)\n",
    "print('List :',list)\n",
    "print('Tuple :',tuple)"
   ]
  },
  {
   "cell_type": "markdown",
   "id": "8e72dfaf",
   "metadata": {},
   "source": [
    "3. Write a Python program to display the first and last colors from the following list.\n",
    "color_list = [\"Red\",\"Green\",\"White\" ,\"Black\"]"
   ]
  },
  {
   "cell_type": "code",
   "execution_count": 5,
   "id": "04e5c78a",
   "metadata": {},
   "outputs": [
    {
     "name": "stdout",
     "output_type": "stream",
     "text": [
      "Red Black\n"
     ]
    }
   ],
   "source": [
    "color_list = [\"Red\",\"Green\",\"White\" ,\"Black\"]\n",
    "print(color_list[0],color_list[-1])"
   ]
  },
  {
   "cell_type": "markdown",
   "id": "c03a36d8",
   "metadata": {},
   "source": [
    "4. Write a Python program to test whether a number is within 100 of 1000 or 2000."
   ]
  },
  {
   "cell_type": "code",
   "execution_count": 8,
   "id": "923fddf8",
   "metadata": {},
   "outputs": [
    {
     "name": "stdout",
     "output_type": "stream",
     "text": [
      "900\n",
      "True\n"
     ]
    }
   ],
   "source": [
    "n = int(input())\n",
    "def check(n):\n",
    "    return((abs(1000 - n)<=100) or(abs(2000 - n)<=100))\n",
    "print(check(n))"
   ]
  },
  {
   "cell_type": "markdown",
   "id": "11c78b76",
   "metadata": {},
   "source": [
    "5. Write a Python program to print all even numbers"
   ]
  },
  {
   "cell_type": "code",
   "execution_count": 1,
   "id": "e1a8750e",
   "metadata": {},
   "outputs": [
    {
     "name": "stdout",
     "output_type": "stream",
     "text": [
      "10\n",
      "0\n",
      "2\n",
      "4\n",
      "6\n",
      "8\n",
      "10\n"
     ]
    }
   ],
   "source": [
    "n = int(input())\n",
    "for i in range(0, n+1):\n",
    "        if i % 2 == 0:\n",
    "            print(i)"
   ]
  },
  {
   "cell_type": "markdown",
   "id": "dc630966",
   "metadata": {},
   "source": [
    "6. Write a Python program to get the difference between the two lists."
   ]
  },
  {
   "cell_type": "code",
   "execution_count": 2,
   "id": "95fa843b",
   "metadata": {},
   "outputs": [
    {
     "name": "stdout",
     "output_type": "stream",
     "text": [
      "['Cheese', 'Mac']\n"
     ]
    }
   ],
   "source": [
    "lis1 = ['Apple','Cheese','Orange']\n",
    "lis2 = ['Apple','Mac','Orange']\n",
    "diff_1 = list(set(lis1) - set(lis2))\n",
    "diff_2 = list(set(lis2) - set(lis1))\n",
    "res = diff_1 + diff_2\n",
    "print(res)"
   ]
  },
  {
   "cell_type": "markdown",
   "id": "0b557b8c",
   "metadata": {},
   "source": [
    "7. Write a Python program to find the list in a list of lists whose sum of elements is the highest.\n",
    "\n",
    " - Sample lists: [1,2,3], [4,5,6], [10,11,12], [7,8,9]\n",
    " \n",
    " > Expected Output: [10, 11, 12]"
   ]
  },
  {
   "cell_type": "code",
   "execution_count": 3,
   "id": "c1916f7a",
   "metadata": {},
   "outputs": [
    {
     "name": "stdout",
     "output_type": "stream",
     "text": [
      "[10, 11, 12]\n"
     ]
    }
   ],
   "source": [
    "lishigh = [[1,2,3], [4,5,6], [10,11,12], [7,8,9]]\n",
    "print(max(lishigh, key=sum))"
   ]
  },
  {
   "cell_type": "markdown",
   "id": "b364ef7d",
   "metadata": {},
   "source": [
    "8. Write a Python program to round every number of a given list of numbers and print the total sum multiplied by the length of the list.\n",
    "\n",
    " - Original list: [22.4, 4.0, -16.22, -9.1, 11.0, -12.22, 14.2, -5.2, 17.5]\n",
    "\n",
    " > Result: 243"
   ]
  },
  {
   "cell_type": "code",
   "execution_count": 4,
   "id": "6604e761",
   "metadata": {},
   "outputs": [
    {
     "name": "stdout",
     "output_type": "stream",
     "text": [
      "Original list:  [22.4, 4.0, -16.22, -9.1, 11.0, -12.22, 14.2, -5.2, 17.5]\n",
      "Result:\n",
      "243\n"
     ]
    }
   ],
   "source": [
    "nums = [22.4, 4.0, -16.22, -9.10, 11.00, -12.22, 14.20, -5.20, 17.50]\n",
    "print(\"Original list: \", nums)\n",
    "print(\"Result:\")\n",
    "lenght=len(nums)\n",
    "print(sum(list(map(round,nums))* lenght))"
   ]
  },
  {
   "cell_type": "markdown",
   "id": "63f56a62",
   "metadata": {},
   "source": [
    "9.  Write a Python program to remove specific words from a given list. \n",
    " \n",
    " - Original list: ['red', 'green', 'blue', 'white', 'black', 'orange']\n",
    " \n",
    " - Remove words: ['white', 'orange']\n",
    " \n",
    " > After removing the specified words from the said list: ['red', 'green', 'blue', 'black']"
   ]
  },
  {
   "cell_type": "code",
   "execution_count": 6,
   "id": "1951ad46",
   "metadata": {},
   "outputs": [
    {
     "name": "stdout",
     "output_type": "stream",
     "text": [
      "['red', 'green', 'blue', 'black']\n"
     ]
    }
   ],
   "source": [
    "def remove_words(l1, rw):\n",
    "    for word in list(l1):\n",
    "        if word in rw:\n",
    "            l1.remove(word)\n",
    "    return l1        \n",
    "colors = ['red', 'green', 'blue', 'white', 'black', 'orange']\n",
    "rc = ['white', 'orange']\n",
    "\n",
    "print(remove_words(colors, rc))"
   ]
  },
  {
   "cell_type": "markdown",
   "id": "e300bece",
   "metadata": {},
   "source": [
    "10. Write a Python script to concatenate following dictionaries to create a new one. \n",
    "\n",
    " - Sample Dictionary : dic1={1:10, 2:20} dic2={3:30, 4:40} dic3={5:50,6:60}\n",
    " \n",
    " > Expected Result : {1: 10, 2: 20, 3: 30, 4: 40, 5: 50, 6: 60}"
   ]
  },
  {
   "cell_type": "code",
   "execution_count": 7,
   "id": "9b70e1ef",
   "metadata": {},
   "outputs": [
    {
     "name": "stdout",
     "output_type": "stream",
     "text": [
      "{1: 10, 2: 20, 3: 30, 4: 40, 5: 50, 6: 60}\n"
     ]
    }
   ],
   "source": [
    "dic1={1:10, 2:20}\n",
    "dic2={3:30, 4:40}\n",
    "dic3={5:50,6:60}\n",
    "dic4 = {}\n",
    "for d in (dic1, dic2, dic3):\n",
    "    dic4.update(d)\n",
    "print(dic4)"
   ]
  },
  {
   "cell_type": "markdown",
   "id": "fd30300b",
   "metadata": {},
   "source": [
    "11. Write a Python program to multiply all the items in a dictionary"
   ]
  },
  {
   "cell_type": "code",
   "execution_count": 32,
   "id": "053dc9f7",
   "metadata": {},
   "outputs": [
    {
     "name": "stdout",
     "output_type": "stream",
     "text": [
      "760\n"
     ]
    }
   ],
   "source": [
    "dict1 = {'Coffee Bite':1,'Dairy Milk':10,'Melody':2,'ferrero rocher':38}\n",
    "ans = 1\n",
    "for i in dict1:\n",
    "    ans = ans*dict1[i]\n",
    "print(ans)"
   ]
  },
  {
   "cell_type": "markdown",
   "id": "c3f751f4",
   "metadata": {},
   "source": [
    "12. Write a Python program to get the 4th element and 4th element from last of a tuple."
   ]
  },
  {
   "cell_type": "code",
   "execution_count": 16,
   "id": "aa440ce5",
   "metadata": {},
   "outputs": [
    {
     "name": "stdout",
     "output_type": "stream",
     "text": [
      "4th element :  jinja\n",
      "4th element from last :  quart\n"
     ]
    }
   ],
   "source": [
    "t = ('scipy','numpy','pandas','jinja','quart','rpi','arduino','matplotlib')\n",
    "it1 = t[3]\n",
    "it2 = t[-4]\n",
    "print(\"4th element : \",it1)\n",
    "print(\"4th element from last : \",it2)"
   ]
  },
  {
   "cell_type": "markdown",
   "id": "3770b061",
   "metadata": {},
   "source": [
    "13. Write a Python program to convert a tuple to a dictionary. "
   ]
  },
  {
   "cell_type": "code",
   "execution_count": 34,
   "id": "749b953f",
   "metadata": {},
   "outputs": [
    {
     "data": {
      "text/plain": [
       "{'age': 20, 'salary': 20000}"
      ]
     },
     "execution_count": 34,
     "metadata": {},
     "output_type": "execute_result"
    }
   ],
   "source": [
    "t1 = (('age',20),('salary',20000))\n",
    "dict(t1)"
   ]
  },
  {
   "cell_type": "markdown",
   "id": "7a163592",
   "metadata": {},
   "source": [
    "14.  Write a Python program to remove all elements from a given set."
   ]
  },
  {
   "cell_type": "code",
   "execution_count": 38,
   "id": "5ba40219",
   "metadata": {},
   "outputs": [
    {
     "name": "stdout",
     "output_type": "stream",
     "text": [
      "Set before removing all elements : {'Black', 'White', 'Red', 'Green'}\n",
      "After removing all elements of the said set : set()\n"
     ]
    }
   ],
   "source": [
    "s = {\"Red\", \"Green\", \"Black\", \"White\"}\n",
    "print(\"Set before removing all elements :\",s)\n",
    "s.clear()\n",
    "print(\"After removing all elements of the said set :\",s)"
   ]
  },
  {
   "cell_type": "markdown",
   "id": "0d0bab8f",
   "metadata": {},
   "source": [
    "15. Write a Python program to check if a given set is superset of itself and superset of another given set."
   ]
  },
  {
   "cell_type": "code",
   "execution_count": 41,
   "id": "a09cd255",
   "metadata": {},
   "outputs": [
    {
     "name": "stdout",
     "output_type": "stream",
     "text": [
      "Original set:  {50, 20, 40, 10, 30}\n",
      "If original set is superset of itself?\n",
      "True\n",
      "\n",
      "num1 =  {1, 2, 3, 4, 5, 7}\n",
      "num2 =  {2, 4}\n",
      "num3 =  {2, 4}\n",
      "If num1 is superset of num2:\n",
      "True\n",
      "Compare num2 and num3:\n",
      "If num2 is superset of num3:\n",
      "False\n",
      "If num3 is superset of num2:\n",
      "False\n"
     ]
    }
   ],
   "source": [
    "num_o = {10,20,30,40,50}\n",
    "print(\"Original set: \",num_o)\n",
    "print(\"If original set is superset of itself?\")\n",
    "print(num_o.issuperset(num_o))\n",
    "num1 = {1, 2, 3, 4, 5, 7}\n",
    "num2 = {2, 4}\n",
    "num3 = {2, 4}\n",
    "print(\"\\nnum1 = \", num1)\n",
    "print(\"num2 = \", num2)\n",
    "print(\"num3 = \", num3)\n",
    "print(\"If num1 is superset of num2:\")\n",
    "print(num1>num2)\n",
    "print(\"Compare num2 and num3:\")\n",
    "print(\"If num2 is superset of num3:\")\n",
    "print(num2>num3)\n",
    "print(\"If num3 is superset of num2:\")\n",
    "print(num3>num2)"
   ]
  }
 ],
 "metadata": {
  "kernelspec": {
   "display_name": "Python 3 (ipykernel)",
   "language": "python",
   "name": "python3"
  },
  "language_info": {
   "codemirror_mode": {
    "name": "ipython",
    "version": 3
   },
   "file_extension": ".py",
   "mimetype": "text/x-python",
   "name": "python",
   "nbconvert_exporter": "python",
   "pygments_lexer": "ipython3",
   "version": "3.9.12"
  }
 },
 "nbformat": 4,
 "nbformat_minor": 5
}
